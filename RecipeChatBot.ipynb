{
 "cells": [
  {
   "cell_type": "markdown",
   "metadata": {},
   "source": [
    "# Recipe Suggesting Voicebot\n",
    "- The aim of this chatbot was discuss cooking and ingredients with the user and help them decide what recipe to make for their dinner party\n",
    "- The bot users a dataframe of recipes that I have created from scraping various sites\n",
    "- The final dataframe output includes cuisines that the users requests and any suggested ingredients. \n",
    "- For allegies the bot excludes specified ingredients \n",
    "\n",
    "#### Graphical outputs\n",
    "- The bot creates three graphical outputs \n",
    "- 1) A word frequency plot - often in text analysis its useful to see the most frequently used words\n",
    "- 2) A boxplot comparing the users response to a question and a fictitious survey. Compares where the user sits to the sample population\n",
    "- 3) Sentimnet scores given to each question to allow the analyst to see how negative and positive the user responded to questions"
   ]
  },
  {
   "cell_type": "code",
   "execution_count": 87,
   "metadata": {},
   "outputs": [
    {
     "name": "stderr",
     "output_type": "stream",
     "text": [
      "[nltk_data] Downloading package punkt to\n",
      "[nltk_data]     C:\\Users\\robert.lowe\\AppData\\Roaming\\nltk_data...\n",
      "[nltk_data]   Package punkt is already up-to-date!\n",
      "[nltk_data] Downloading package wordnet to\n",
      "[nltk_data]     C:\\Users\\robert.lowe\\AppData\\Roaming\\nltk_data...\n",
      "[nltk_data]   Package wordnet is already up-to-date!\n"
     ]
    },
    {
     "data": {
      "text/plain": [
       "True"
      ]
     },
     "execution_count": 87,
     "metadata": {},
     "output_type": "execute_result"
    }
   ],
   "source": [
    "from nltk.stem import WordNetLemmatizer\n",
    "lemmatizer = WordNetLemmatizer()\n",
    "import json\n",
    "import pickle\n",
    "import numpy as np\n",
    "import random\n",
    "import string # to process standard python strings\n",
    "import wikipedia\n",
    "import pandas as pd\n",
    "from textblob import TextBlob\n",
    "from newspaper import Article\n",
    "import requests\n",
    "import seaborn as sns\n",
    "from os import path, getcwd\n",
    "from PIL import Image\n",
    "from nltk.tokenize import RegexpTokenizer\n",
    "from bs4 import BeautifulSoup\n",
    "import requests\n",
    "import nltk\n",
    "import re\n",
    "import seaborn as sns\n",
    "import wordcloud\n",
    "from os import path, getcwd\n",
    "import numpy as np\n",
    "from wordcloud import WordCloud, ImageColorGenerator\n",
    "from nltk.tokenize import RegexpTokenizer\n",
    "from nltk.corpus import stopwords \n",
    "from bs4 import BeautifulSoup             \n",
    "import re\n",
    "import nltk\n",
    "import warnings\n",
    "import seaborn as sns\n",
    "import os\n",
    "import json\n",
    "import re\n",
    "import numpy as np\n",
    "import pandas as pd\n",
    "import networkx as nx\n",
    "from collections import Counter\n",
    "from collections import defaultdict\n",
    "from PIL import Image\n",
    "import matplotlib.pyplot as plt\n",
    "import matplotlib.image as mpimg\n",
    "nltk.download('punkt') # first-time use only\n",
    "nltk.download('wordnet') # first-time use only"
   ]
  },
  {
   "cell_type": "markdown",
   "metadata": {},
   "source": [
    "________\n",
    "_________\n",
    "\n",
    "\n",
    "## Part 1) \n",
    "- Creating functions to answer the users response in a conversational way by searching for specific words and creating random recipe responses\n",
    "- Also creating functions that only select certain words that can then be added to a dictionary\n",
    "\n",
    "\n",
    "________\n",
    "_________"
   ]
  },
  {
   "cell_type": "code",
   "execution_count": 88,
   "metadata": {},
   "outputs": [],
   "source": [
    "def Do_you_like_cooking(x):\n",
    "    '''A function to find the sentiment of a response and return an output depending on how negative the response was'''\n",
    "    obj = TextBlob(x)\n",
    "    sentiment = obj.sentiment.polarity\n",
    "    if sentiment >=0.55 or 'love' in x:\n",
    "        print('BOT: Phew! It’s always a relief to talk to a fellow foodie. So I can give the best recommendation for you, can you tell me how many times a week (in the evening) you cook with meat?')\n",
    "    elif sentiment >-0.2 and sentiment <0.55:\n",
    "        print(\"BOT: I wasn't the best cook at first, but practise makes perfect! So I can give the best recommendation for you, can you tell me how many times a week (in the evening) you cook with meat?\")\n",
    "\n",
    "    else:\n",
    "        print(\"BOT: Oh don't worry about it, I hated it at first! I can help you pick an easy recipe. So I can give the best recommendation for you, can you tell me how many times a week (in the evening) you cook with meat?\")\n",
    "\n",
    "    "
   ]
  },
  {
   "cell_type": "code",
   "execution_count": 89,
   "metadata": {},
   "outputs": [],
   "source": [
    "def meat_a_week(string):\n",
    "    \n",
    "    '''A function to find certain words in a string and out put a conversational response'''\n",
    " \n",
    "    if '5' in string or 'five'in string  or '6' in string or 'six' in string or '7' in string or 'seven' in string or 'every day' in string or 'all days' in string or 'all the time' in string:\n",
    "        print(\"BOT: Ahhh a meat lover. Well I have plenty of recipes in mind with all kinds of meats :). Now, let’s get started. What cuisines do you like to cook?\")\n",
    "        \n",
    "    elif '4' in string or 'four'in string  or '3' in string or 'three' in string or '2' in string or 'two' in string or '1' in string or 'once' in string or 'a few' in string or 'a couple' in string:\n",
    "        print(\"BOT: It’s great to see that you are cutting down on your meat intake, both for health and environmental reasons! Now, let’s get started. What cuisines do you like to cook?\")\n",
    "    elif 'never' in string or 'vegetarian'in string  or 'vegan' in string or 'pescatarian' in string or 'veggie' in string:\n",
    "        print(\"BOT: Well I have plenty of recipes that are meatfree! Now, let’s get started. What cuisines do you like to cook?\")\n",
    "        \n",
    "    else:\n",
    "        print(\"BOT: Ok great to know! Now, let’s get started. What cuisines do you like to cook?\")\n"
   ]
  },
  {
   "cell_type": "code",
   "execution_count": 90,
   "metadata": {},
   "outputs": [],
   "source": [
    "def cuisines(sentence):\n",
    "    \n",
    "    '''A function to find words that are in a specific dataframe column and then provide a suggestion of recipes'''\n",
    "    \n",
    "    df = pd.read_csv('all_ingred_cuisine.csv')\n",
    "    Cuisines = df.cuisine.drop_duplicates().tolist()\n",
    "    cusines_lst = []\n",
    "    for word in sentence.split():\n",
    "        if word.lower() in Cuisines:\n",
    "            cusines_lst.append(word)\n",
    "    if len(cusines_lst) >1:\n",
    "        df1 = df[(df['cuisine']==cusines_lst[0]) | (df['cuisine']==cusines_lst[-1])]\n",
    "        recipes = df1.Title.tolist()\n",
    "        print('BOT: Yum, I love cooking ' + cusines_lst[0] + ' and '+ cusines_lst[-1] \n",
    "              + ', I have few in mind. Here are a couple of examples: '\n",
    "              + ', '.join(random.sample(recipes, 3))\n",
    "              + '. If none of these tickle your pickle, I can recommend some more once I know you a little better. Do you have any allergies?')\n",
    "    elif len(cusines_lst) ==1:\n",
    "        df2 = df[df['cuisine'] == cusines_lst[0]]\n",
    "        recipes = df2.Title.tolist()\n",
    "        print('BOT: Yum, I love cooking ' + cusines_lst[0] + \n",
    "                     ' I have few in mind. Here are a couple of examples: ' \n",
    "                     + ', '.join(random.sample(recipes, 3)) + \n",
    "                     '. If none of these tickle your pickle, I can recommend some more once I know you a little better. Do you have any allergies?')\n",
    "    else:\n",
    "        print('BOT: Do you have any allergies?')"
   ]
  },
  {
   "cell_type": "code",
   "execution_count": 7,
   "metadata": {},
   "outputs": [],
   "source": [
    "def cuisines_append(sentence):\n",
    "    \n",
    "    '''A function that only finds words that are in the dataframe column and appends them to a list'''\n",
    "    \n",
    "    df = pd.read_csv('all_ingred_cuisine.csv')\n",
    "    Cuisines = df.cuisine.drop_duplicates().tolist()\n",
    "    cusines_lst = []\n",
    "    for word in sentence.split():\n",
    "        if word.lower() in Cuisines:\n",
    "            cusines_lst.append(word)\n",
    "    return(cusines_lst)"
   ]
  },
  {
   "cell_type": "code",
   "execution_count": 8,
   "metadata": {},
   "outputs": [
    {
     "name": "stdout",
     "output_type": "stream",
     "text": [
      "BOT: Yum, I love cooking japanese and indian, I have few in mind. Here are a couple of examples: Beetroot curry, Empire roast lamb, Pork tonkatsu & noodles. If none of these tickle your pickle, I can recommend some more once I know you a little better. Do you have any allergies?\n"
     ]
    }
   ],
   "source": [
    "cuisines('japanese indian')"
   ]
  },
  {
   "cell_type": "code",
   "execution_count": 9,
   "metadata": {},
   "outputs": [
    {
     "data": {
      "text/plain": [
       "['japanese', 'indian', 'thai', 'mexican']"
      ]
     },
     "execution_count": 9,
     "metadata": {},
     "output_type": "execute_result"
    }
   ],
   "source": [
    "cuisines_append('i lovr cooking japanese indian thai and mexican')"
   ]
  },
  {
   "cell_type": "code",
   "execution_count": 10,
   "metadata": {},
   "outputs": [],
   "source": [
    "def food_allergies(sentence):\n",
    "    \n",
    "    '''A function that finds yes or no and provides a response'''\n",
    "    \n",
    "    lst = []\n",
    "    for word in sentence.split():\n",
    "        if 'yes' in word:\n",
    "            print('BOT: Sorry to hear. When I suggest recipes at the end I will avoid those ingredients for you :)' + \n",
    "                 'Have you tried replacing your food with alternatives. I have not got round to learning out to replace such recipes but here are some suggestions on this website: https://food.ndtv.com/food-drinks/8-wonderful-substitutes-for-the-most-common-food-allergies-1715139'\n",
    "                 + 'Will there be any veggies at the dinner party?')\n",
    "        elif 'no' in word:\n",
    "            print('BOT: Luck you!' + 'Will there be any veggies at the dinner party?')\n",
    "        else:\n",
    "            print('BOT: Will there be any veggies at the dinner party?')\n",
    "            "
   ]
  },
  {
   "cell_type": "code",
   "execution_count": 11,
   "metadata": {},
   "outputs": [],
   "source": [
    "def food_allergies_append(sentence, all_unique_ingredients):\n",
    "    \n",
    "    '''A function that only finds ingredients that are in the list of ingredients called all_unique_ingredients.\n",
    "    If the ingredients are in the list it appends them to another list'''\n",
    "    \n",
    "    for word in sentence.split():\n",
    "        if 'yes' in word:\n",
    "            sentence = clean_text(sentence)\n",
    "            all_unique_ingredients = [x.lower() for x in all_unique_ingredients]\n",
    "            lst = ['yes']\n",
    "            for word in sentence.split():\n",
    "                if word.lower() in all_unique_ingredients:\n",
    "                    lst.append(word)\n",
    "            return lst\n",
    "        else:\n",
    "            lst = []\n",
    "            lst.append('no')\n",
    "            return lst\n",
    "            "
   ]
  },
  {
   "cell_type": "code",
   "execution_count": 12,
   "metadata": {},
   "outputs": [],
   "source": [
    "def veggie(word):\n",
    "    \n",
    "    '''A function that finds yes or no and provides a response. If yes veggie recipes are suggested. \n",
    "    The output also lists a main component for the user to select'''\n",
    "    \n",
    "    df = pd.read_csv('all_ingred_cuisine.csv')\n",
    "    if 'no' in word:\n",
    "        recipes = df.Title.tolist()\n",
    "        print('BOT: Well that makes things a little simpler. I find it much easier to decide what to make when you pick a main component. Please pick one of these as a base for your dish: '\n",
    "            + ', '.join(df.Meat_and_Poultry.drop_duplicates().tolist()))\n",
    "    \n",
    "    elif 'yes' in word:\n",
    "        df1 = df[(df['Meat_and_Poultry']=='Meatless') & (df['Fish']=='No Fish')]\n",
    "        recipes = df1.Title.tolist()\n",
    "        print(\"BOT: Here are some of my favourite veggie dishes: \" +  ', '.join(random.sample(recipes, 3)) \n",
    "              + '. If there are any meat eaters in the house, I find it much easier to decide what to make when you pick a main component. Please pick one of these as a base for your dish: '\n",
    "            + ', '.join(df.Meat_and_Poultry.drop_duplicates().tolist()))\n",
    "    else:\n",
    "        print('BOT: I find it much easier to decide what to make when you pick a main component. Please pick one of these as a base for your dish:  '\n",
    "            + ', '.join(df.Meat_and_Poultry.drop_duplicates().tolist()))\n",
    "        \n",
    "        \n",
    "        \n"
   ]
  },
  {
   "cell_type": "code",
   "execution_count": 13,
   "metadata": {},
   "outputs": [
    {
     "name": "stdout",
     "output_type": "stream",
     "text": [
      "BOT: Here are some of my favourite veggie dishes: Middle Eastern roasted sprouts, Cumin roast veg with tahini dressing, Amaretti & sultana cheesecake. If there are any meat eaters in the house, I find it much easier to decide what to make when you pick a main component. Please pick one of these as a base for your dish: chicken, Meatless, lamb, pork, beef, duck\n"
     ]
    }
   ],
   "source": [
    "veggie('yes')"
   ]
  },
  {
   "cell_type": "code",
   "execution_count": 14,
   "metadata": {},
   "outputs": [],
   "source": [
    "def veggie_response(word):\n",
    "    df = pd.read_csv('all_ingred_cuisine.csv')\n",
    "    if 'yes' in word:\n",
    "        return ['yes','Meatless', 'No Fish'] \n",
    "    else:\n",
    "        return ['no']\n",
    "     "
   ]
  },
  {
   "cell_type": "code",
   "execution_count": 15,
   "metadata": {},
   "outputs": [],
   "source": [
    "def main_ingred_sugg(sentence):\n",
    "    \n",
    "    '''A function that filters the meat and poutlry column of a dataframe. \n",
    "    The output provides a random choice and asks the user how long they have to cook'''\n",
    "    \n",
    "    df = pd.read_csv('all_ingred_cuisine.csv')\n",
    "    main_ingred = df.Meat_and_Poultry.drop_duplicates().tolist()\n",
    "    main_ingred = [x.lower() for x in main_ingred]\n",
    "    try:\n",
    "        lst = []\n",
    "        for word in sentence.split():\n",
    "            if word.lower() in main_ingred:\n",
    "                lst.append(word)\n",
    "        random_choice = random.choice(lst)\n",
    "        df = df[df['Meat_and_Poultry'] == random_choice]\n",
    "        recipes = df.Title.tolist()\n",
    "\n",
    "        print('BOT: I have a few recipes in mind for recipes with ' +  random_choice + ': ' + ', '.join(random.sample(recipes, 2))\n",
    "              + 'Just a couple more questions and I can give you the final list. How much time do you have to cook?')\n",
    "    except:\n",
    "        print('BOT: Just a couple more questions and I can give you the final list. How much time do you have to cook?')"
   ]
  },
  {
   "cell_type": "code",
   "execution_count": 16,
   "metadata": {},
   "outputs": [],
   "source": [
    "def main_ingred_append(sentence):\n",
    "    df = pd.read_csv('all_ingred_cuisine.csv')\n",
    "    main_ingred = df.Meat_and_Poultry.drop_duplicates().tolist()\n",
    "    main_ingred = [x.lower() for x in main_ingred]\n",
    "    lst = []\n",
    "    for word in sentence.split():\n",
    "        if word.lower() in main_ingred:\n",
    "            lst.append(word)\n",
    "    return lst"
   ]
  },
  {
   "cell_type": "code",
   "execution_count": 17,
   "metadata": {},
   "outputs": [],
   "source": [
    "def string_prep_time(string):\n",
    "    \n",
    "    'Converts a string to minutes. Finds hours and numbers in a string. Returns integars'\n",
    "    \n",
    "    list_1 = string.split()\n",
    "\n",
    "    list_numbers = [i for i in list_1 if i.isdigit()]\n",
    "    list_numbers = [int(i) for i in list_numbers]\n",
    "    \n",
    "    if len(list_numbers) > 1 and 'hour' in list_1:\n",
    "        hours = (int(list_numbers[0]) * 60)\n",
    "        minutes = list_numbers[1]\n",
    "        return(hours + minutes)\n",
    "    elif len(list_numbers) > 1 and 'hours' in list_1:\n",
    "        hours = (int(list_numbers[0]) * 60)\n",
    "        minutes = list_numbers[1]\n",
    "        return(hours + minutes)\n",
    "\n",
    "    elif len(list_numbers) == 0 and 'hour' in list_1:\n",
    "        return(60)\n",
    "    elif len(list_numbers) == 1 and 'hour' in list_1:\n",
    "        hours = 60\n",
    "        minutes = list_numbers[0]\n",
    "        return(hours + minutes)\n",
    "    elif len(list_numbers) == 1 and 'hour' not in list_1:\n",
    "        return(list_numbers[0])\n"
   ]
  },
  {
   "cell_type": "code",
   "execution_count": 54,
   "metadata": {},
   "outputs": [],
   "source": [
    "def string_prep_time_append(string):\n",
    "    \n",
    "    string = string.replace('once', '1').replace('twice', '2').replace('three', '3').replace('four', '4').replace('five', '5').replace('six','6').replace('seven','7')\n",
    "\n",
    "    \n",
    "    'Converts a string to minutes. Finds hours and numbers in a string. Returns string values'\n",
    "    \n",
    "    list_1 = string.split()\n",
    "\n",
    "    list_numbers = [i for i in list_1 if i.isdigit()]\n",
    "    list_numbers = [int(i) for i in list_numbers]\n",
    "    \n",
    "    if len(list_numbers) > 1 and 'hour' in list_1:\n",
    "        hours = (int(list_numbers[0]) * 60)\n",
    "        minutes = list_numbers[1]\n",
    "        time = hours + minutes\n",
    "        return(str(time))\n",
    "    elif len(list_numbers) > 1 and 'hours' in list_1:\n",
    "        hours = (int(list_numbers[0]) * 60)\n",
    "        minutes = list_numbers[1]\n",
    "        time = hours + minutes\n",
    "        return(str(time))\n",
    "\n",
    "    elif len(list_numbers) == 0 and 'hour' in list_1:\n",
    "        return('60')\n",
    "    elif len(list_numbers) == 1 and 'hour' in list_1:\n",
    "        hours = 60\n",
    "        minutes = list_numbers[0]\n",
    "        time = hours + minutes\n",
    "        return(str(time))\n",
    "    elif len(list_numbers) == 1 and 'hour' not in list_1:\n",
    "        time = list_numbers[0]\n",
    "        return(str(time))\n"
   ]
  },
  {
   "cell_type": "code",
   "execution_count": 67,
   "metadata": {},
   "outputs": [],
   "source": [
    "import random\n",
    "\n",
    "\n",
    "def meatweek_append(string):\n",
    "    \n",
    "    string = string.replace('once', '1').replace('twice', '2').replace('three', '3').replace('four', '4').replace('five', '5').replace('six','6').replace('seven','7')\n",
    "\n",
    "    \n",
    "    ' Finds numbers in a string. Returns string values'\n",
    "    \n",
    "    list_1 = string.split()\n",
    "\n",
    "    list_numbers = [i for i in list_1 if i.isdigit()]\n",
    "    list_numbers = [int(i) for i in list_numbers]\n",
    "    try:\n",
    "        return max(list_numbers)\n",
    "    except:\n",
    "        return random.randint(0,7)\n"
   ]
  },
  {
   "cell_type": "code",
   "execution_count": 68,
   "metadata": {},
   "outputs": [],
   "source": [
    "def time_to_cook(string):\n",
    "    \n",
    "    '''Users the string_prep_time function to read the string for integar values \n",
    "    and provides a response on how big the number is'''\n",
    "    \n",
    "    time = string_prep_time(string)\n",
    "    if int(time) > 5*60:\n",
    "        print('BOT: Wow you have plenty of time, I wouldnt worry! I will look for recipes that have ' + str(time/60) \n",
    "              +' hours or less. Finally, do you have any ingredients in the house?')\n",
    "    elif int(time) > 2*60:\n",
    "        print(\"BOT: That shouldn't be a problem. I will look for recipes that have \" + str(time/60) +\" hours or less. What ingredients do you like to cook with?\")\n",
    "    elif int(time) > 60:\n",
    "        print(\"BOT: Hmmm ok I will look for fast recipes. About \" + str(time/60) +\" hours or less. What ingredients do you like to cook with?\")    \n",
    "    else:\n",
    "        print('BOT: Great, I will get searching for fast recipes to make in under an hour! What other ingredients do you like to cook with?')"
   ]
  },
  {
   "cell_type": "code",
   "execution_count": 21,
   "metadata": {},
   "outputs": [
    {
     "name": "stdout",
     "output_type": "stream",
     "text": [
      "BOT: Wow you have plenty of time, I wouldnt worry! I will look for recipes that have 6.5 hours or less. Finally, do you have any ingredients in the house?\n"
     ]
    }
   ],
   "source": [
    "time_to_cook('I have about an 6 hours and 30 minutes to cook')"
   ]
  },
  {
   "cell_type": "code",
   "execution_count": 22,
   "metadata": {},
   "outputs": [],
   "source": [
    "def Word_Search_df(x, df):\n",
    "    '''Searches for strings in the ingredients column of the dataframe'''\n",
    "    df[x] = df['Ingredients'].str.contains(x, flags=re.IGNORECASE)\n",
    "    df[x] = df[x].replace(True, 1)\n",
    "    df[x] = df[x].replace(False, 0)\n",
    "    return df"
   ]
  },
  {
   "cell_type": "code",
   "execution_count": 23,
   "metadata": {},
   "outputs": [],
   "source": [
    "def Word_Search(x, df):\n",
    "    '''Searches for strings in the ingredients column of the dataframe'''\n",
    "    df[x] = df['Ingredients'].str.contains(x, flags=re.IGNORECASE)\n",
    "    df[x] = df[x].replace(True, 1)\n",
    "    df[x] = df[x].replace(False, 0)\n",
    "    return \n",
    "\n",
    "def ingredients_in(list_of_ingredients_in):\n",
    "    '''Searches for a list of strings in the ingredients column of the dataframe'''\n",
    "    [Word_Search(ingred) for ingred in list_of_ingredients_in]\n",
    "    return"
   ]
  },
  {
   "cell_type": "code",
   "execution_count": 24,
   "metadata": {},
   "outputs": [],
   "source": [
    "### I found a list of ingredients online on a kaggle competition. I deduplicated the list and I use it to search for ingredients\n",
    "\n",
    "ingreds = pd.read_csv('List_of_Ingredients.csv')\n",
    "\n",
    "def groupby(x):\n",
    "    return 1\n",
    "ingreds['GroupBy'] = ingreds['seperated_ingredients'].apply(groupby)\n",
    "\n",
    "#concat all strings\n",
    "List_ingreds = ingreds.groupby(['GroupBy'])['seperated_ingredients'].apply(' '.join)\n",
    "List_ingreds = pd.concat([List_ingreds], axis =1 )\n",
    "List_ingreds = List_ingreds[['seperated_ingredients']].reset_index()\n",
    "List_ingreds = List_ingreds.drop(['GroupBy'], axis=1)\n",
    "\n",
    "# deduplicate\n",
    "List_ingreds = List_ingreds.seperated_ingredients.drop_duplicates().tolist()\n",
    "mylist = \" \".join(List_ingreds)\n",
    "mylist = mylist.split(\",\")\n",
    "all_unique_ingredients = list(set(mylist))\n"
   ]
  },
  {
   "cell_type": "code",
   "execution_count": null,
   "metadata": {},
   "outputs": [],
   "source": []
  },
  {
   "cell_type": "code",
   "execution_count": 25,
   "metadata": {},
   "outputs": [],
   "source": [
    "def clean_text( text ):\n",
    "    '''Clean text so the output is faster'''\n",
    "   \n",
    "    letters_only = re.sub(\"[^a-zA-Z]\", \" \", text) \n",
    "    #\n",
    "    # 3. Convert to lower case, split into individual words\n",
    "    words = letters_only.lower().split()                                             \n",
    "    #\n",
    "    # 4. In Python, searching a set is much faster than searching\n",
    "    #   a list, so convert the stop words to a set\n",
    "    stops = set(stopwords.words(\"english\"))                  \n",
    "    # \n",
    "    # 5. Remove stop words\n",
    "    meaningful_words = [w for w in words if not w in stops]   \n",
    "    #\n",
    "    # 6. Join the words back into one string separated by space, \n",
    "    # and return the result.\n",
    "    return( \" \".join( meaningful_words ))"
   ]
  },
  {
   "cell_type": "code",
   "execution_count": 26,
   "metadata": {},
   "outputs": [],
   "source": [
    "def ingredients_prefer(sentence, all_unique_ingredients):\n",
    "    \n",
    "    '''Searches for ingredients in all_unique_ingredients. Provides some examples of recipes. \n",
    "    \n",
    "    If pineapple on pizza is suggested an attempt of banter is provided to the user'''\n",
    "    \n",
    "    \n",
    "    df = pd.read_csv('all_ingred_cuisine.csv')\n",
    "    \n",
    "    if 'pineapple' and 'pizza' in sentence:\n",
    "            img=mpimg.imread('Gordon-Ramsay-Pineapple-Pizza-Meme-03.jpg')\n",
    "            imgplot = plt.imshow(img)\n",
    "            plt.axis('off')\n",
    "            plt.show()\n",
    "    else:\n",
    "        sentence = clean_text(sentence)\n",
    "        all_unique_ingredients = [x.lower() for x in all_unique_ingredients]\n",
    "        lst = []\n",
    "        for word in sentence.split():\n",
    "            if word.lower() in all_unique_ingredients:\n",
    "                lst.append(word)\n",
    "\n",
    "        random_choice = random.choice(lst)\n",
    "        df = Word_Search_df(random_choice, df)\n",
    "\n",
    "        df = df[df[random_choice] == 1]\n",
    "        recipes = df.Title.tolist()\n",
    "        word_in_title = []\n",
    "        for word in recipes:\n",
    "            if random_choice.lower() in word:\n",
    "                word_in_title.append(word)\n",
    "        if len(word_in_title) < 1:\n",
    "            print(\"BOT: Yum, \"  +  random_choice + \"! Great addition.\"+ ', '.join(random.sample(recipes, 1)) + \"is my favourite. Finally, do you have any ingredients already lying about in the house?\")\n",
    "        else:\n",
    "            print(\"BOT: Yum, \"  +  random_choice + \"! Great addition.\" + word_in_title[0] + \"is my favourite. Finally, do you have any ingredients already lying about in the house?\")\n"
   ]
  },
  {
   "cell_type": "code",
   "execution_count": 27,
   "metadata": {},
   "outputs": [
    {
     "name": "stdout",
     "output_type": "stream",
     "text": [
      "BOT: Yum, pork! Great addition.Lemon & chilli sesame pork with mangetoutis my favourite. Finally, do you have any ingredients already lying about in the house?\n"
     ]
    }
   ],
   "source": [
    "sentence = 'I really like to cook pork'\n",
    "ingredients_prefer(sentence, all_unique_ingredients)\n"
   ]
  },
  {
   "cell_type": "code",
   "execution_count": 28,
   "metadata": {},
   "outputs": [],
   "source": [
    "def ingredients_prefer_append(sentence, all_unique_ingredients):\n",
    "    \n",
    "    '''Appends all ingredients to a list'''\n",
    "    \n",
    "    df = pd.read_csv('all_ingred_cuisine.csv')\n",
    "    sentence = clean_text(sentence)\n",
    "    all_unique_ingredients = [x.lower() for x in all_unique_ingredients]\n",
    "    lst = []\n",
    "    for word in sentence.split():\n",
    "        if word.lower() in all_unique_ingredients:\n",
    "            lst.append(word)\n",
    "\n",
    "    return lst"
   ]
  },
  {
   "cell_type": "code",
   "execution_count": 29,
   "metadata": {},
   "outputs": [],
   "source": [
    "def split(x):\n",
    "    return x.split(',')\n",
    "\n",
    "def Check_if_in(df):\n",
    "    ingredients = [df.Ingredients.count(x) for x in df.Ingredients_inn_split]\n",
    "    ingredients = [1 if i >=1 else i for i in ingredients]\n",
    "    return sum(ingredients)\n",
    "\n"
   ]
  },
  {
   "cell_type": "code",
   "execution_count": 30,
   "metadata": {},
   "outputs": [],
   "source": [
    "def Whats_in(string):\n",
    "    '''Final response'''\n",
    "    print('BOT: I think i’ve got everything I need. I will flag recipes you have in and I will provide a list of recipes is csv file now. Happy cooking!')\n",
    "     \n",
    "def Whats_in_append(sentence, all_unique_ingredients):\n",
    "    \n",
    "    '''Provides ingredients that the user suggests and appends them to a list'''\n",
    "    \n",
    "    df = pd.read_csv('all_ingred_cuisine.csv')\n",
    "    sentence = clean_text(sentence)\n",
    "    all_unique_ingredients = [x.lower() for x in all_unique_ingredients]\n",
    "    lst = []\n",
    "    for word in sentence.split():\n",
    "        if word.lower() in all_unique_ingredients:\n",
    "            lst.append(word)\n",
    "    return lst"
   ]
  },
  {
   "cell_type": "markdown",
   "metadata": {},
   "source": [
    "________\n",
    "_________\n",
    "\n",
    "\n",
    "## Part 2) # Graphical  output functions\n",
    "- Creating functions to output graphical analyses\n",
    "\n",
    "\n",
    "________\n",
    "_________"
   ]
  },
  {
   "cell_type": "code",
   "execution_count": 36,
   "metadata": {},
   "outputs": [],
   "source": [
    "def plot_word_freq(Response_toqs):\n",
    "    \n",
    "    \"\"\"Plots word frequency\"\"\"\n",
    "    \n",
    "    # Joins all values of a dictionary to a string\n",
    "    combined_responses = ' '.join(str(x) for x in Response_toqs.values())\n",
    "    tokenizer = RegexpTokenizer('\\w+')\n",
    "    # Create tokens\n",
    "    tokens = tokenizer.tokenize(combined_responses)\n",
    "    # Initialize new list\n",
    "    words = []\n",
    "    # Loop through list tokens and make lower case\n",
    "    for word in tokens:\n",
    "        words.append(word.lower())\n",
    "    # Get English stopwords and print some of them\n",
    "    sw = nltk.corpus.stopwords.words('english')\n",
    "    # Initialize new list\n",
    "    words_ns = []\n",
    "    # Add to words_ns all words that are in words but not in sw\n",
    "    for word in words:\n",
    "        if word not in sw:\n",
    "            words_ns.append(word)\n",
    "            \n",
    "    # Create freq dist and plot\n",
    "    freqdist1 = nltk.FreqDist(words_ns)\n",
    "    freqdist1.plot(25)"
   ]
  },
  {
   "cell_type": "code",
   "execution_count": 81,
   "metadata": {},
   "outputs": [],
   "source": [
    "def box_plot(response):\n",
    "    try:\n",
    "        response = int(response['meat_a_week'])\n",
    "        '''Opens a fictitious survey and plots two boxplots parallel to one another for comparison'''\n",
    "        fake = pd.read_csv('Fake_survey_data.csv')\n",
    "        d = {'Users Response': [response]}\n",
    "        new = pd.DataFrame(data=d)\n",
    "        fake = pd.concat([fake, new], axis = 1)\n",
    "        boxplot = fake.boxplot(column=['Comparison To Average Response', 'Users Response'], grid = False, vert=True)\n",
    "        plt.ylabel('Range')\n",
    "        return\n",
    "    except:\n",
    "        '''Opens a fictitious survey and plots two boxplots parallel to one another for comparison'''\n",
    "        fake = pd.read_csv('Fake_survey_data.csv')\n",
    "        d = {'Users Response': [random.randint(0,7)]}\n",
    "        new = pd.DataFrame(data=d)\n",
    "        fake = pd.concat([fake, new], axis = 1)\n",
    "        boxplot = fake.boxplot(column=['Comparison To Average Response', 'Users Response'], grid = False, vert=True)\n",
    "        plt.ylabel('Range')\n",
    "        return\n",
    "        "
   ]
  },
  {
   "cell_type": "code",
   "execution_count": 38,
   "metadata": {},
   "outputs": [],
   "source": [
    "def sentiment(text):\n",
    "    '''Provides a sentiment score for a string'''\n",
    "    obj = TextBlob(text)\n",
    "    sentiment = obj.sentiment.polarity\n",
    "    return([sentiment])"
   ]
  },
  {
   "cell_type": "code",
   "execution_count": 39,
   "metadata": {},
   "outputs": [],
   "source": [
    "def sentiment_scores(Response_toqs):\n",
    "    \n",
    "    '''Creates a barchat that plots each question and its corresponding sentiment score'''\n",
    "    \n",
    "    d = {k: sentiment(v) for k, v in Response_toqs.items()}\n",
    "    new = pd.DataFrame(data=d)\n",
    "    sentiment_table = new.T.reset_index()\n",
    "    sentiment_table = sentiment_table.rename(columns={\"index\": \"Survey_Question\", 0: \"Sentiment_Score\"})\n",
    "    barlist = sentiment_table.plot(kind='bar',x= 'Survey_Question',y='Sentiment_Score',\n",
    "    color=['green' if row['Sentiment_Score'] >0 else 'red' for name,row in sentiment_table.iterrows()], alpha=0.6, legend=False)\n",
    "\n",
    "    #plt.rcParams[\"figure.figsize\"] = fig_size\n",
    "    plt.title('Sentiment Analysis Score for each Question', weight = 'bold', size = 12)\n",
    "    plt.ylabel('Sentiment Score', weight = 'bold')\n",
    "    plt.xlabel('Survey Questions')\n",
    "    plt.show()\n",
    "    return\n",
    "    "
   ]
  },
  {
   "cell_type": "code",
   "execution_count": 76,
   "metadata": {},
   "outputs": [
    {
     "data": {
      "image/png": "[encoded data removed]",
      "text/plain": [
       "<Figure size 432x288 with 1 Axes>"
      ]
     },
     "metadata": {
      "needs_background": "light"
     },
     "output_type": "display_data"
    }
   ],
   "source": [
    "users_responses = {'meat_a_week': 5, 'time': '5'}\n",
    "box_plot(int(users_responses['meat_a_week']))"
   ]
  },
  {
   "cell_type": "markdown",
   "metadata": {},
   "source": [
    "______\n",
    "## Part 3) Output Functions \n",
    "- Creating a final dataframe by filtering the users responses \n",
    "\n",
    "______"
   ]
  },
  {
   "cell_type": "code",
   "execution_count": 40,
   "metadata": {},
   "outputs": [],
   "source": [
    "df = pd.read_csv('all_ingred_cuisine.csv')"
   ]
  },
  {
   "cell_type": "code",
   "execution_count": 41,
   "metadata": {},
   "outputs": [],
   "source": [
    "users_responses = {'cuisines': ['indian', 'japanese'], 'allergy': ['no', 'chicken', 'onion'], 'veggie': ['Meatless', 'No Fish'], 'main_ingred': ['chicken', 'lamb'], 'time': '8', 'ingredients_like': ['onions', 'pasta'], 'Whats_in': ['pasta', 'onions']}"
   ]
  },
  {
   "cell_type": "code",
   "execution_count": 42,
   "metadata": {},
   "outputs": [],
   "source": [
    "def cuisine_output(users_responses, df):\n",
    "    \n",
    "    '''Filters the users response to the question to refine recipes. \n",
    "    Reads the values from the dictionary'''\n",
    "    \n",
    "    #cuisines\n",
    "    cuisine = users_responses['cuisines']\n",
    "    if len(cuisine)>0:\n",
    "        df['Cusine_response'] = df['cuisine'].isin(cuisine)\n",
    "        df = df[df['Cusine_response'] == True]\n",
    "        return df\n",
    "    else:\n",
    "        return df\n",
    "    \n",
    "    "
   ]
  },
  {
   "cell_type": "code",
   "execution_count": 43,
   "metadata": {},
   "outputs": [],
   "source": [
    "def main_ingred_output(users_responses, df):\n",
    "    \n",
    "    '''Filters the users response to the question to refine recipes. \n",
    "    Reads the values from the dictionary'''\n",
    "    \n",
    "    main_ingred = users_responses['main_ingred'] \n",
    "    if len(main_ingred)>0:\n",
    "        df['Meat_and_Poultry_response'] = df['Meat_and_Poultry'].isin(main_ingred)\n",
    "        return df\n",
    "    else:\n",
    "        return df"
   ]
  },
  {
   "cell_type": "code",
   "execution_count": 44,
   "metadata": {},
   "outputs": [],
   "source": [
    "def Word_Search_df(x,df):\n",
    "    df[x] = df['Ingredients'].str.contains(x, flags=re.IGNORECASE)\n",
    "    return df"
   ]
  },
  {
   "cell_type": "code",
   "execution_count": 45,
   "metadata": {},
   "outputs": [],
   "source": [
    "def Word_Search_df_filter(x, df):\n",
    "    df[x] = df['Ingredients'].str.contains(x, flags=re.IGNORECASE)\n",
    "    df = df[df[x] == False]\n",
    "    return df"
   ]
  },
  {
   "cell_type": "code",
   "execution_count": 46,
   "metadata": {},
   "outputs": [],
   "source": [
    "def ingredients_like_output(users_responses, df):\n",
    "    \n",
    "    '''Filters the users response to the question to refine recipes. \n",
    "    Reads the values from the dictionary'''\n",
    "    \n",
    "    #ingredients\n",
    "    ingredients_like = users_responses['ingredients_like'] \n",
    "    if len(ingredients_like)>0:\n",
    "        for x in ingredients_like:\n",
    "            Word_Search_df(x,df)\n",
    "        return df\n",
    "    else:\n",
    "        return df"
   ]
  },
  {
   "cell_type": "code",
   "execution_count": 47,
   "metadata": {},
   "outputs": [],
   "source": [
    "def allergy_output(users_responses, df):\n",
    "    \n",
    "    '''Filters the users response to the question to refine recipes. \n",
    "    Reads the values from the dictionary'''\n",
    "    \n",
    "    \n",
    "    #Allergy\n",
    "    allergy = users_responses['allergy'][1:]\n",
    "    if len(allergy)>0:\n",
    "        for x in allergy:\n",
    "            df = Word_Search_df_filter(x, df)\n",
    "\n",
    "        return df\n",
    "    else:\n",
    "        return df"
   ]
  },
  {
   "cell_type": "code",
   "execution_count": 48,
   "metadata": {},
   "outputs": [],
   "source": [
    "def veggie_output(users_responses, df):\n",
    "    \n",
    "    '''Filters the users response to the question to refine recipes. \n",
    "    Reads the values from the dictionary'''\n",
    "    \n",
    "    veggie = users_responses['veggie']\n",
    "    if 'yes' in veggie:\n",
    "        df = df[(df['Meat_and_Poultry']=='Meatless') & (df['Fish']=='No Fish')]\n",
    "        return df\n",
    "    else:\n",
    "        return df"
   ]
  },
  {
   "cell_type": "code",
   "execution_count": 49,
   "metadata": {},
   "outputs": [],
   "source": [
    "def time_output(users_responses, df):\n",
    "    \n",
    "    '''Filters the users response to the question to refine recipes. \n",
    "    Reads the values from the dictionary'''\n",
    "    \n",
    "    time = users_responses['time']\n",
    "    time = int(time)\n",
    "    df = df[df['Cook Time'] <= time]\n",
    "    return df"
   ]
  },
  {
   "cell_type": "code",
   "execution_count": 50,
   "metadata": {},
   "outputs": [],
   "source": [
    "def Whats_in_output(users_responses, df):\n",
    "    \n",
    "    '''Filters the users response to the question to refine recipes. \n",
    "    Reads the values from the dictionary'''\n",
    "    \n",
    "    \n",
    "    Whats_in = users_responses['Whats_in'] \n",
    "    if len(Whats_in)>0:\n",
    "        for x in Whats_in:\n",
    "            Word_Search_df(x,df)\n",
    "        df.to_csv(\"test_recipe_suggestions.csv\")\n",
    "\n",
    "        return df.head()\n",
    "    else:\n",
    "        df.to_csv(\"test_recipe_suggestions.csv\")\n",
    "        return df.head()\n",
    "        "
   ]
  },
  {
   "cell_type": "code",
   "execution_count": 51,
   "metadata": {},
   "outputs": [],
   "source": [
    "def final_output(df):\n",
    "    \n",
    "    '''Filters the users response to the question to refine recipes. \n",
    "    Reads the values from the dictionary'''\n",
    "    \n",
    "    \n",
    "    df = pd.read_csv('all_ingred_cuisine.csv')\n",
    "    df = cuisine_output(users_responses, df)\n",
    "    df = allergy_output(users_responses, df)\n",
    "    df = veggie_output(users_responses, df)\n",
    "    df = main_ingred_output(users_responses, df)\n",
    "    df = ingredients_like_output(users_responses, df)\n",
    "    df = Whats_in_output(users_responses, df)\n",
    "    try:\n",
    "        df = time_output(users_responses, df)\n",
    "        return df\n",
    "    except:\n",
    "        return df"
   ]
  },
  {
   "cell_type": "markdown",
   "metadata": {},
   "source": [
    "_____\n",
    "\n",
    "\n",
    "# Part 4 - Chatbot\n",
    "\n",
    "\n",
    "____\n"
   ]
  },
  {
   "cell_type": "code",
   "execution_count": 83,
   "metadata": {},
   "outputs": [
    {
     "name": "stdout",
     "output_type": "stream",
     "text": [
      "BOT: Hello there! I am MealMaster, a recipe recommendation bot, here to help you decide what recipe to master. I’ll use your answers to improve my recommendations to other budding chefs. Clever, huh? Looks like you have chosen Dinner Party as your meal occasion. Let’s start with a ‘temperature check'. How much do you enjoy cooking?\n"
     ]
    },
    {
     "name": "stdin",
     "output_type": "stream",
     "text": [
      " I love cooking. Highlight of my night. I have tonns of cookbooks and I love hosting dinner parties for friends. :)\n"
     ]
    },
    {
     "name": "stdout",
     "output_type": "stream",
     "text": [
      "BOT: Phew! It’s always a relief to talk to a fellow foodie. So I can give the best recommendation for you, can you tell me how many times a week (in the evening) you cook with meat?\n"
     ]
    },
    {
     "name": "stdin",
     "output_type": "stream",
     "text": [
      " I probably cook 5 times a week. I try to cut down on my intake of meat, but if I am honest I love it too much\n"
     ]
    },
    {
     "name": "stdout",
     "output_type": "stream",
     "text": [
      "BOT: Ahhh a meat lover. Well I have plenty of recipes in mind with all kinds of meats :). Now, let’s get started. What cuisines do you like to cook?\n"
     ]
    },
    {
     "name": "stdin",
     "output_type": "stream",
     "text": [
      " I love them all but I tend to cook indian and mexican to dinner parties, so I will probably stick to that. Although if I find the right recipe I would like to cook japanese or thai or italian. The list goes on\n"
     ]
    },
    {
     "name": "stdout",
     "output_type": "stream",
     "text": [
      "BOT: Yum, I love cooking indian and thai, I have few in mind. Here are a couple of examples: The best aloo gobi, Chicken tikka skewers, Roast aubergine & coconut curry. If none of these tickle your pickle, I can recommend some more once I know you a little better. Do you have any allergies?\n"
     ]
    },
    {
     "name": "stdin",
     "output_type": "stream",
     "text": [
      " No\n"
     ]
    },
    {
     "name": "stdout",
     "output_type": "stream",
     "text": [
      "BOT: Luck you!Will there be any veggies at the dinner party?\n"
     ]
    },
    {
     "name": "stdin",
     "output_type": "stream",
     "text": [
      " No. Not that I am aware of. I can always change the ingredients slightly\n"
     ]
    },
    {
     "name": "stdout",
     "output_type": "stream",
     "text": [
      "BOT: Well that makes things a little simpler. I find it much easier to decide what to make when you pick a main component. Please pick one of these as a base for your dish: chicken, Meatless, lamb, pork, beef, duck\n"
     ]
    },
    {
     "name": "stdin",
     "output_type": "stream",
     "text": [
      " I tend to only cook chicken, pork and meatless dishes\n"
     ]
    },
    {
     "name": "stdout",
     "output_type": "stream",
     "text": [
      "BOT: Just a couple more questions and I can give you the final list. How much time do you have to cook?\n"
     ]
    },
    {
     "name": "stdin",
     "output_type": "stream",
     "text": [
      " I have about an hour to cook on Friday once I have finished work\n"
     ]
    },
    {
     "name": "stdout",
     "output_type": "stream",
     "text": [
      "BOT: Great, I will get searching for fast recipes to make in under an hour! What other ingredients do you like to cook with?\n"
     ]
    },
    {
     "name": "stdin",
     "output_type": "stream",
     "text": [
      " To name a few I love cooking with paneer, fresh tomatoes, definitely with cream. I would like to look at some fish dishes with prawns in also\n"
     ]
    },
    {
     "name": "stdout",
     "output_type": "stream",
     "text": [
      "BOT: Yum, cream! Great addition.Pears in port with meringue creamis my favourite. Finally, do you have any ingredients already lying about in the house?\n"
     ]
    },
    {
     "name": "stdin",
     "output_type": "stream",
     "text": [
      "  I have some pasta, rice, cheese, paneer and fresh parsley\n"
     ]
    },
    {
     "name": "stdout",
     "output_type": "stream",
     "text": [
      "BOT: I think i’ve got everything I need. I will flag recipes you have in and I will provide a list of recipes is csv file now. Happy cooking!\n"
     ]
    },
    {
     "data": {
      "image/png": "[encoded data removed]",
      "text/plain": [
       "<Figure size 432x288 with 1 Axes>"
      ]
     },
     "metadata": {
      "needs_background": "light"
     },
     "output_type": "display_data"
    },
    {
     "data": {
      "image/png": "[encoded data removed]",
      "text/plain": [
       "<Figure size 432x288 with 1 Axes>"
      ]
     },
     "metadata": {
      "needs_background": "light"
     },
     "output_type": "display_data"
    },
    {
     "data": {
      "image/png": "[encoded data removed]",
      "text/plain": [
       "<Figure size 432x288 with 1 Axes>"
      ]
     },
     "metadata": {
      "needs_background": "light"
     },
     "output_type": "display_data"
    },
    {
     "data": {
      "text/html": [
       "<div>\n",
       "<style scoped>\n",
       "    .dataframe tbody tr th:only-of-type {\n",
       "        vertical-align: middle;\n",
       "    }\n",
       "\n",
       "    .dataframe tbody tr th {\n",
       "        vertical-align: top;\n",
       "    }\n",
       "\n",
       "    .dataframe thead th {\n",
       "        text-align: right;\n",
       "    }\n",
       "</style>\n",
       "<table border=\"1\" class=\"dataframe\">\n",
       "  <thead>\n",
       "    <tr style=\"text-align: right;\">\n",
       "      <th></th>\n",
       "      <th>Unnamed: 0</th>\n",
       "      <th>cuisine</th>\n",
       "      <th>Title</th>\n",
       "      <th>Ingredients</th>\n",
       "      <th>Number of ingredients</th>\n",
       "      <th>Link</th>\n",
       "      <th>Serving</th>\n",
       "      <th>Cook Time</th>\n",
       "      <th>Fish</th>\n",
       "      <th>Meat_and_Poultry</th>\n",
       "      <th>...</th>\n",
       "      <th>paneer</th>\n",
       "      <th>fresh</th>\n",
       "      <th>tomatoes</th>\n",
       "      <th>cream</th>\n",
       "      <th>fish</th>\n",
       "      <th>prawns</th>\n",
       "      <th>pasta</th>\n",
       "      <th>rice</th>\n",
       "      <th>cheese</th>\n",
       "      <th>parsley</th>\n",
       "    </tr>\n",
       "  </thead>\n",
       "  <tbody>\n",
       "    <tr>\n",
       "      <th>0</th>\n",
       "      <td>0</td>\n",
       "      <td>indian</td>\n",
       "      <td>Mob's Chicken Katsu Burger</td>\n",
       "      <td>4 brioche baps, 1 bunch of coriander, 2 eggs, ...</td>\n",
       "      <td>20</td>\n",
       "      <td>http://www.mobkitchen.co.uk/recipes/mobs-chick...</td>\n",
       "      <td>4</td>\n",
       "      <td>30.0</td>\n",
       "      <td>No Fish</td>\n",
       "      <td>chicken</td>\n",
       "      <td>...</td>\n",
       "      <td>False</td>\n",
       "      <td>False</td>\n",
       "      <td>False</td>\n",
       "      <td>False</td>\n",
       "      <td>False</td>\n",
       "      <td>False</td>\n",
       "      <td>False</td>\n",
       "      <td>False</td>\n",
       "      <td>False</td>\n",
       "      <td>False</td>\n",
       "    </tr>\n",
       "    <tr>\n",
       "      <th>1</th>\n",
       "      <td>1</td>\n",
       "      <td>indian</td>\n",
       "      <td>Creamy Cashew &amp; Coconut Vegan Korma</td>\n",
       "      <td>tablespoon of agave nectar, crushed chillies, ...</td>\n",
       "      <td>19</td>\n",
       "      <td>http://www.mobkitchen.co.uk/recipes/creamy-cas...</td>\n",
       "      <td>4</td>\n",
       "      <td>61.0</td>\n",
       "      <td>No Fish</td>\n",
       "      <td>Meatless</td>\n",
       "      <td>...</td>\n",
       "      <td>False</td>\n",
       "      <td>False</td>\n",
       "      <td>False</td>\n",
       "      <td>False</td>\n",
       "      <td>False</td>\n",
       "      <td>False</td>\n",
       "      <td>False</td>\n",
       "      <td>True</td>\n",
       "      <td>False</td>\n",
       "      <td>False</td>\n",
       "    </tr>\n",
       "    <tr>\n",
       "      <th>2</th>\n",
       "      <td>2</td>\n",
       "      <td>indian</td>\n",
       "      <td>Big Boy Bhaji Burger</td>\n",
       "      <td>3 red onions, cumin seeds, ground coriander, g...</td>\n",
       "      <td>17</td>\n",
       "      <td>http://www.mobkitchen.co.uk/recipes/big-boy-bh...</td>\n",
       "      <td>4</td>\n",
       "      <td>30.0</td>\n",
       "      <td>No Fish</td>\n",
       "      <td>Meatless</td>\n",
       "      <td>...</td>\n",
       "      <td>False</td>\n",
       "      <td>True</td>\n",
       "      <td>False</td>\n",
       "      <td>False</td>\n",
       "      <td>False</td>\n",
       "      <td>False</td>\n",
       "      <td>False</td>\n",
       "      <td>False</td>\n",
       "      <td>False</td>\n",
       "      <td>False</td>\n",
       "    </tr>\n",
       "    <tr>\n",
       "      <th>3</th>\n",
       "      <td>3</td>\n",
       "      <td>mexican</td>\n",
       "      <td>Vegan Chocolate Chilli</td>\n",
       "      <td>2 garlic cloves, 1 red onion, 2 peppers (not g...</td>\n",
       "      <td>17</td>\n",
       "      <td>http://www.mobkitchen.co.uk/recipes/vegan-choc...</td>\n",
       "      <td>4</td>\n",
       "      <td>50.0</td>\n",
       "      <td>No Fish</td>\n",
       "      <td>Meatless</td>\n",
       "      <td>...</td>\n",
       "      <td>False</td>\n",
       "      <td>False</td>\n",
       "      <td>True</td>\n",
       "      <td>False</td>\n",
       "      <td>False</td>\n",
       "      <td>False</td>\n",
       "      <td>False</td>\n",
       "      <td>True</td>\n",
       "      <td>False</td>\n",
       "      <td>False</td>\n",
       "    </tr>\n",
       "    <tr>\n",
       "      <th>5</th>\n",
       "      <td>5</td>\n",
       "      <td>thai</td>\n",
       "      <td>The Freshest Thai Red Prawn Curry</td>\n",
       "      <td>200g of frozen prawns, 1 brown onion, coriande...</td>\n",
       "      <td>17</td>\n",
       "      <td>http://www.mobkitchen.co.uk/recipes/the-freshe...</td>\n",
       "      <td>4</td>\n",
       "      <td>30.0</td>\n",
       "      <td>Prawn</td>\n",
       "      <td>Meatless</td>\n",
       "      <td>...</td>\n",
       "      <td>False</td>\n",
       "      <td>False</td>\n",
       "      <td>True</td>\n",
       "      <td>False</td>\n",
       "      <td>False</td>\n",
       "      <td>True</td>\n",
       "      <td>False</td>\n",
       "      <td>True</td>\n",
       "      <td>False</td>\n",
       "      <td>False</td>\n",
       "    </tr>\n",
       "  </tbody>\n",
       "</table>\n",
       "<p>5 rows × 23 columns</p>\n",
       "</div>"
      ],
      "text/plain": [
       "   Unnamed: 0  cuisine                                Title  \\\n",
       "0           0   indian           Mob's Chicken Katsu Burger   \n",
       "1           1   indian  Creamy Cashew & Coconut Vegan Korma   \n",
       "2           2   indian                 Big Boy Bhaji Burger   \n",
       "3           3  mexican               Vegan Chocolate Chilli   \n",
       "5           5     thai    The Freshest Thai Red Prawn Curry   \n",
       "\n",
       "                                         Ingredients  Number of ingredients  \\\n",
       "0  4 brioche baps, 1 bunch of coriander, 2 eggs, ...                     20   \n",
       "1  tablespoon of agave nectar, crushed chillies, ...                     19   \n",
       "2  3 red onions, cumin seeds, ground coriander, g...                     17   \n",
       "3  2 garlic cloves, 1 red onion, 2 peppers (not g...                     17   \n",
       "5  200g of frozen prawns, 1 brown onion, coriande...                     17   \n",
       "\n",
       "                                                Link Serving  Cook Time  \\\n",
       "0  http://www.mobkitchen.co.uk/recipes/mobs-chick...       4       30.0   \n",
       "1  http://www.mobkitchen.co.uk/recipes/creamy-cas...       4       61.0   \n",
       "2  http://www.mobkitchen.co.uk/recipes/big-boy-bh...       4       30.0   \n",
       "3  http://www.mobkitchen.co.uk/recipes/vegan-choc...       4       50.0   \n",
       "5  http://www.mobkitchen.co.uk/recipes/the-freshe...       4       30.0   \n",
       "\n",
       "      Fish Meat_and_Poultry   ...    paneer  fresh  tomatoes  cream   fish  \\\n",
       "0  No Fish          chicken   ...     False  False     False  False  False   \n",
       "1  No Fish         Meatless   ...     False  False     False  False  False   \n",
       "2  No Fish         Meatless   ...     False   True     False  False  False   \n",
       "3  No Fish         Meatless   ...     False  False      True  False  False   \n",
       "5    Prawn         Meatless   ...     False  False      True  False  False   \n",
       "\n",
       "   prawns  pasta   rice  cheese  parsley  \n",
       "0   False  False  False   False    False  \n",
       "1   False  False   True   False    False  \n",
       "2   False  False  False   False    False  \n",
       "3   False  False   True   False    False  \n",
       "5    True  False   True   False    False  \n",
       "\n",
       "[5 rows x 23 columns]"
      ]
     },
     "execution_count": 83,
     "metadata": {},
     "output_type": "execute_result"
    }
   ],
   "source": [
    "print(\"BOT: Hello there! I am MealMaster, a recipe recommendation bot, here to help you decide what recipe to master. I’ll use your answers to improve my recommendations to other budding chefs. Clever, huh? Looks like you have chosen Dinner Party as your meal occasion. Let’s start with a ‘temperature check'. How much do you enjoy cooking?\")\n",
    "Response_toqs =  {}\n",
    "users_responses = {}\n",
    "\n",
    "# Do_you_like_cooking\n",
    "user_response = input()\n",
    "user_response=user_response.lower()\n",
    "Response_toqs.update({'Do_you_like_cooking' :user_response})\n",
    "if(Do_you_like_cooking(user_response)!=None):\n",
    "    print(\"ROBO: \"+Do_you_like_cooking(user_response))\n",
    "\n",
    "# meat_a_week\n",
    "user_response = input()\n",
    "user_response=user_response.lower()\n",
    "users_responses.update({'meat_a_week' :meatweek_append(user_response)})\n",
    "Response_toqs.update({'meat_a_week' :user_response})\n",
    "if(meat_a_week(user_response)!=None):\n",
    "    print(\"ROBO: \"+meat_a_week(user_response))\n",
    "\n",
    "# cuisine\n",
    "users_responses = {}\n",
    "user_response = input()\n",
    "user_response=user_response.lower()\n",
    "users_responses.update({'cuisines' :cuisines_append(user_response)})\n",
    "Response_toqs.update({'cuisines' :user_response})\n",
    "if(cuisines(user_response)!=None):\n",
    "    print(\"ROBO: \"+cuisines(user_response))\n",
    "\n",
    "# allergy\n",
    "user_response = input()\n",
    "user_response=user_response.lower()\n",
    "users_responses.update({'allergy' :food_allergies_append(user_response, all_unique_ingredients)})\n",
    "Response_toqs.update({'allergy' :user_response})\n",
    "if(food_allergies(user_response)!=None):\n",
    "    print(\"ROBO: \"+food_allergies(user_response))\n",
    "\n",
    "    \n",
    "#veggie\n",
    "user_response = input()\n",
    "user_response=user_response.lower()\n",
    "users_responses.update({'veggie' :veggie_response(user_response)})\n",
    "Response_toqs.update({'veggie' :user_response})\n",
    "if(veggie(user_response)!=None):\n",
    "    print(veggie(user_response))\n",
    "        \n",
    "#main_ingred\n",
    "user_response = input()\n",
    "user_response=user_response.lower()\n",
    "users_responses.update({'main_ingred' :main_ingred_append(user_response)})\n",
    "Response_toqs.update({'main_ingred' :user_response})\n",
    "\n",
    "if(main_ingred_sugg(user_response)!=None):\n",
    "    print(main_ingred_sugg(user_response))\n",
    "\n",
    "#time\n",
    "user_response = input()\n",
    "user_response=user_response.lower()\n",
    "users_responses.update({'time' :string_prep_time_append(user_response)})\n",
    "Response_toqs.update({'time' :user_response})\n",
    "if(time_to_cook(user_response)!=None):\n",
    "    print(time_to_cook(user_response))\n",
    "\n",
    "# ingredients you like\n",
    "user_response = input()\n",
    "user_response=user_response.lower() \n",
    "users_responses.update({'ingredients_like' :ingredients_prefer_append(user_response, all_unique_ingredients)})\n",
    "Response_toqs.update({'ingredients_like' :user_response})\n",
    "if(ingredients_prefer(user_response, all_unique_ingredients)!=None):\n",
    "    print(ingredients_prefer(user_response, all_unique_ingredients))\n",
    "    \n",
    "# What you have in the fridge/ cupbaord\n",
    "user_response = input()\n",
    "user_response=user_response.lower()\n",
    "users_responses.update({'Whats_in' :Whats_in_append(user_response,all_unique_ingredients)})\n",
    "Response_toqs.update({'Whats_in' :user_response})\n",
    "if(Whats_in(user_response)!=None):\n",
    "    print(Whats_in(user_response))\n",
    "\n",
    "\n",
    "#print(users_responses)\n",
    "#print(Response_toqs)\n",
    "\n",
    "plot_word_freq(Response_toqs)\n",
    "box_plot(users_responses)\n",
    "sentiment_scores(Response_toqs)\n",
    "final_output(df)"
   ]
  }
 ],
 "metadata": {
  "kernelspec": {
   "display_name": "Python 3",
   "language": "python",
   "name": "python3"
  },
  "language_info": {
   "codemirror_mode": {
    "name": "ipython",
    "version": 3
   },
   "file_extension": ".py",
   "mimetype": "text/x-python",
   "name": "python",
   "nbconvert_exporter": "python",
   "pygments_lexer": "ipython3",
   "version": "3.7.1"
  }
 },
 "nbformat": 4,
 "nbformat_minor": 2
}
